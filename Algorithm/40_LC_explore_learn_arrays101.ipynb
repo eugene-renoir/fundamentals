{
 "cells": [
  {
   "cell_type": "markdown",
   "metadata": {},
   "source": [
    "### Height Checker (07/23)\n",
    "https://leetcode.com/explore/learn/card/fun-with-arrays/523/conclusion/3228/"
   ]
  },
  {
   "cell_type": "code",
   "execution_count": null,
   "metadata": {},
   "outputs": [],
   "source": [
    "from typing import List\n",
    "def heightChecker(heights: List[int]) -> int:\n",
    "    sorted_lst = sorted(heights)\n",
    "    cnt = 0\n",
    "    for i,j in zip(sorted_lst, heights):\n",
    "        if i - j != 0:\n",
    "            cnt += 1\n",
    "        else:\n",
    "            continue\n",
    "            \n",
    "    return cnt"
   ]
  },
  {
   "cell_type": "code",
   "execution_count": null,
   "metadata": {},
   "outputs": [],
   "source": [
    "a = [5,1,2,3,4]\n",
    "heightChecker(a)"
   ]
  },
  {
   "cell_type": "markdown",
   "metadata": {},
   "source": [
    "### Third Maximum Number (07/23)\n",
    "https://leetcode.com/explore/learn/card/fun-with-arrays/523/conclusion/3231/"
   ]
  },
  {
   "cell_type": "code",
   "execution_count": null,
   "metadata": {},
   "outputs": [],
   "source": [
    "def thirdMax(nums: List[int]) -> int:\n",
    "    set_nums = set(nums)\n",
    "    if (len(set_nums) <= 2):\n",
    "        return max(nums)\n",
    "    \n",
    "    else:\n",
    "        a = [x for x in sorted(set(nums), reverse=True)]\n",
    "        return a[2]"
   ]
  },
  {
   "cell_type": "code",
   "execution_count": null,
   "metadata": {},
   "outputs": [],
   "source": [
    "a = [2,2,3,1]\n",
    "print(thirdMax(a))"
   ]
  },
  {
   "cell_type": "code",
   "execution_count": null,
   "metadata": {},
   "outputs": [],
   "source": [
    "b = [1,1,2]\n",
    "print(thirdMax(b))"
   ]
  }
 ],
 "metadata": {
  "kernelspec": {
   "display_name": "Python 3",
   "language": "python",
   "name": "python3"
  },
  "language_info": {
   "codemirror_mode": {
    "name": "ipython",
    "version": 3
   },
   "file_extension": ".py",
   "mimetype": "text/x-python",
   "name": "python",
   "nbconvert_exporter": "python",
   "pygments_lexer": "ipython3",
   "version": "3.7.6"
  }
 },
 "nbformat": 4,
 "nbformat_minor": 4
}
